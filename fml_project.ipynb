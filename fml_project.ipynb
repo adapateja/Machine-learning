{
  "nbformat": 4,
  "nbformat_minor": 0,
  "metadata": {
    "colab": {
      "provenance": [],
      "authorship_tag": "ABX9TyMrHeGN6Ibzuc2oOl6YKouu",
      "include_colab_link": true
    },
    "kernelspec": {
      "name": "python3",
      "display_name": "Python 3"
    },
    "language_info": {
      "name": "python"
    }
  },
  "cells": [
    {
      "cell_type": "markdown",
      "metadata": {
        "id": "view-in-github",
        "colab_type": "text"
      },
      "source": [
        "<a href=\"https://colab.research.google.com/github/adapateja/Machine-learning/blob/main/fml_project.ipynb\" target=\"_parent\"><img src=\"https://colab.research.google.com/assets/colab-badge.svg\" alt=\"Open In Colab\"/></a>"
      ]
    },
    {
      "cell_type": "markdown",
      "source": [
        "#**Importing neccesary libraries**"
      ],
      "metadata": {
        "id": "v0A08-Bsb4W2"
      }
    },
    {
      "cell_type": "code",
      "execution_count": 98,
      "metadata": {
        "id": "OhUniUnYaz4C"
      },
      "outputs": [],
      "source": [
        "import numpy as np\n",
        "import pandas as pd\n",
        "import matplotlib.pyplot as plt\n",
        "import seaborn as sns\n",
        "import scipy as sc\n",
        "from scipy import stats\n",
        "import math"
      ]
    },
    {
      "cell_type": "markdown",
      "source": [
        "#**Showing the data**"
      ],
      "metadata": {
        "id": "ZvNkrYa5cgq6"
      }
    },
    {
      "cell_type": "markdown",
      "source": [
        "reading the csv files\n",
        "\n",
        "-->We have 3 datasets train,test and samplesubmission so lets use train.csv to examine the data "
      ],
      "metadata": {
        "id": "yvwLk3F4dCPA"
      }
    },
    {
      "cell_type": "code",
      "source": [
        "train_data=pd.read_csv(\"/content/train.csv\")\n",
        "train_data.sample(2)"
      ],
      "metadata": {
        "colab": {
          "base_uri": "https://localhost:8080/",
          "height": 112
        },
        "id": "vSX1shF6c_Rr",
        "outputId": "6a3272f8-d8c4-4183-920e-5f78f0cc920f"
      },
      "execution_count": 61,
      "outputs": [
        {
          "output_type": "execute_result",
          "data": {
            "text/plain": [
              "           text_id                                          full_text  \\\n",
              "1404  6C16FC9FE7A4  Some people think that is a good idea, but act...   \n",
              "1214  5E830B6462DB  Thomas Jefferson believes in that doing someth...   \n",
              "\n",
              "      cohesion  syntax  vocabulary  phraseology  grammar  conventions  \n",
              "1404       3.0     3.0         3.0          3.0      3.0          2.5  \n",
              "1214       2.5     2.5         3.0          2.5      3.5          2.5  "
            ],
            "text/html": [
              "\n",
              "  <div id=\"df-f04bfb99-f3bb-46cb-b232-ebc15f6d9e57\">\n",
              "    <div class=\"colab-df-container\">\n",
              "      <div>\n",
              "<style scoped>\n",
              "    .dataframe tbody tr th:only-of-type {\n",
              "        vertical-align: middle;\n",
              "    }\n",
              "\n",
              "    .dataframe tbody tr th {\n",
              "        vertical-align: top;\n",
              "    }\n",
              "\n",
              "    .dataframe thead th {\n",
              "        text-align: right;\n",
              "    }\n",
              "</style>\n",
              "<table border=\"1\" class=\"dataframe\">\n",
              "  <thead>\n",
              "    <tr style=\"text-align: right;\">\n",
              "      <th></th>\n",
              "      <th>text_id</th>\n",
              "      <th>full_text</th>\n",
              "      <th>cohesion</th>\n",
              "      <th>syntax</th>\n",
              "      <th>vocabulary</th>\n",
              "      <th>phraseology</th>\n",
              "      <th>grammar</th>\n",
              "      <th>conventions</th>\n",
              "    </tr>\n",
              "  </thead>\n",
              "  <tbody>\n",
              "    <tr>\n",
              "      <th>1404</th>\n",
              "      <td>6C16FC9FE7A4</td>\n",
              "      <td>Some people think that is a good idea, but act...</td>\n",
              "      <td>3.0</td>\n",
              "      <td>3.0</td>\n",
              "      <td>3.0</td>\n",
              "      <td>3.0</td>\n",
              "      <td>3.0</td>\n",
              "      <td>2.5</td>\n",
              "    </tr>\n",
              "    <tr>\n",
              "      <th>1214</th>\n",
              "      <td>5E830B6462DB</td>\n",
              "      <td>Thomas Jefferson believes in that doing someth...</td>\n",
              "      <td>2.5</td>\n",
              "      <td>2.5</td>\n",
              "      <td>3.0</td>\n",
              "      <td>2.5</td>\n",
              "      <td>3.5</td>\n",
              "      <td>2.5</td>\n",
              "    </tr>\n",
              "  </tbody>\n",
              "</table>\n",
              "</div>\n",
              "      <button class=\"colab-df-convert\" onclick=\"convertToInteractive('df-f04bfb99-f3bb-46cb-b232-ebc15f6d9e57')\"\n",
              "              title=\"Convert this dataframe to an interactive table.\"\n",
              "              style=\"display:none;\">\n",
              "        \n",
              "  <svg xmlns=\"http://www.w3.org/2000/svg\" height=\"24px\"viewBox=\"0 0 24 24\"\n",
              "       width=\"24px\">\n",
              "    <path d=\"M0 0h24v24H0V0z\" fill=\"none\"/>\n",
              "    <path d=\"M18.56 5.44l.94 2.06.94-2.06 2.06-.94-2.06-.94-.94-2.06-.94 2.06-2.06.94zm-11 1L8.5 8.5l.94-2.06 2.06-.94-2.06-.94L8.5 2.5l-.94 2.06-2.06.94zm10 10l.94 2.06.94-2.06 2.06-.94-2.06-.94-.94-2.06-.94 2.06-2.06.94z\"/><path d=\"M17.41 7.96l-1.37-1.37c-.4-.4-.92-.59-1.43-.59-.52 0-1.04.2-1.43.59L10.3 9.45l-7.72 7.72c-.78.78-.78 2.05 0 2.83L4 21.41c.39.39.9.59 1.41.59.51 0 1.02-.2 1.41-.59l7.78-7.78 2.81-2.81c.8-.78.8-2.07 0-2.86zM5.41 20L4 18.59l7.72-7.72 1.47 1.35L5.41 20z\"/>\n",
              "  </svg>\n",
              "      </button>\n",
              "      \n",
              "  <style>\n",
              "    .colab-df-container {\n",
              "      display:flex;\n",
              "      flex-wrap:wrap;\n",
              "      gap: 12px;\n",
              "    }\n",
              "\n",
              "    .colab-df-convert {\n",
              "      background-color: #E8F0FE;\n",
              "      border: none;\n",
              "      border-radius: 50%;\n",
              "      cursor: pointer;\n",
              "      display: none;\n",
              "      fill: #1967D2;\n",
              "      height: 32px;\n",
              "      padding: 0 0 0 0;\n",
              "      width: 32px;\n",
              "    }\n",
              "\n",
              "    .colab-df-convert:hover {\n",
              "      background-color: #E2EBFA;\n",
              "      box-shadow: 0px 1px 2px rgba(60, 64, 67, 0.3), 0px 1px 3px 1px rgba(60, 64, 67, 0.15);\n",
              "      fill: #174EA6;\n",
              "    }\n",
              "\n",
              "    [theme=dark] .colab-df-convert {\n",
              "      background-color: #3B4455;\n",
              "      fill: #D2E3FC;\n",
              "    }\n",
              "\n",
              "    [theme=dark] .colab-df-convert:hover {\n",
              "      background-color: #434B5C;\n",
              "      box-shadow: 0px 1px 3px 1px rgba(0, 0, 0, 0.15);\n",
              "      filter: drop-shadow(0px 1px 2px rgba(0, 0, 0, 0.3));\n",
              "      fill: #FFFFFF;\n",
              "    }\n",
              "  </style>\n",
              "\n",
              "      <script>\n",
              "        const buttonEl =\n",
              "          document.querySelector('#df-f04bfb99-f3bb-46cb-b232-ebc15f6d9e57 button.colab-df-convert');\n",
              "        buttonEl.style.display =\n",
              "          google.colab.kernel.accessAllowed ? 'block' : 'none';\n",
              "\n",
              "        async function convertToInteractive(key) {\n",
              "          const element = document.querySelector('#df-f04bfb99-f3bb-46cb-b232-ebc15f6d9e57');\n",
              "          const dataTable =\n",
              "            await google.colab.kernel.invokeFunction('convertToInteractive',\n",
              "                                                     [key], {});\n",
              "          if (!dataTable) return;\n",
              "\n",
              "          const docLinkHtml = 'Like what you see? Visit the ' +\n",
              "            '<a target=\"_blank\" href=https://colab.research.google.com/notebooks/data_table.ipynb>data table notebook</a>'\n",
              "            + ' to learn more about interactive tables.';\n",
              "          element.innerHTML = '';\n",
              "          dataTable['output_type'] = 'display_data';\n",
              "          await google.colab.output.renderOutput(dataTable, element);\n",
              "          const docLink = document.createElement('div');\n",
              "          docLink.innerHTML = docLinkHtml;\n",
              "          element.appendChild(docLink);\n",
              "        }\n",
              "      </script>\n",
              "    </div>\n",
              "  </div>\n",
              "  "
            ]
          },
          "metadata": {},
          "execution_count": 61
        }
      ]
    },
    {
      "cell_type": "markdown",
      "source": [
        "Ok from the above data our final criteria is to find the score for a english text in the form of cohesion, syntax, vocabulary, phraseology, grammer and conventions..\n",
        "\n",
        "By using text's in training data we have to find score for the text's in testing data and show them by their text id's in the submission file"
      ],
      "metadata": {
        "id": "aBM7sO-hocIU"
      }
    },
    {
      "cell_type": "markdown",
      "source": [
        "#**Data Preprocessing and ED-Analysis**\n",
        "\n"
      ],
      "metadata": {
        "id": "pLr5VJHPhBA9"
      }
    },
    {
      "cell_type": "code",
      "source": [
        "#Knowing the shape\n",
        "train_data.shape"
      ],
      "metadata": {
        "colab": {
          "base_uri": "https://localhost:8080/"
        },
        "id": "lEh1hURRkJGD",
        "outputId": "60925dfc-62f4-4c7c-8754-d9214ff4e4c1"
      },
      "execution_count": 62,
      "outputs": [
        {
          "output_type": "execute_result",
          "data": {
            "text/plain": [
              "(3911, 8)"
            ]
          },
          "metadata": {},
          "execution_count": 62
        }
      ]
    },
    {
      "cell_type": "code",
      "source": [
        "#know the cloumn names\n",
        "train_data.columns"
      ],
      "metadata": {
        "colab": {
          "base_uri": "https://localhost:8080/"
        },
        "id": "_Lldei_lkURY",
        "outputId": "0cf7d7df-0c85-40b3-c2df-6646727e830f"
      },
      "execution_count": 63,
      "outputs": [
        {
          "output_type": "execute_result",
          "data": {
            "text/plain": [
              "Index(['text_id', 'full_text', 'cohesion', 'syntax', 'vocabulary',\n",
              "       'phraseology', 'grammar', 'conventions'],\n",
              "      dtype='object')"
            ]
          },
          "metadata": {},
          "execution_count": 63
        }
      ]
    },
    {
      "cell_type": "code",
      "source": [
        "#Describing the data\n",
        "train_data.describe()"
      ],
      "metadata": {
        "colab": {
          "base_uri": "https://localhost:8080/",
          "height": 300
        },
        "id": "GogfT8eskaqC",
        "outputId": "fa87c3b3-90bc-49f0-fbb0-4ca5de4beebe"
      },
      "execution_count": 64,
      "outputs": [
        {
          "output_type": "execute_result",
          "data": {
            "text/plain": [
              "          cohesion       syntax   vocabulary  phraseology      grammar  \\\n",
              "count  3911.000000  3911.000000  3911.000000  3911.000000  3911.000000   \n",
              "mean      3.127077     3.028254     3.235745     3.116850     3.032856   \n",
              "std       0.662542     0.644399     0.583148     0.655997     0.699841   \n",
              "min       1.000000     1.000000     1.000000     1.000000     1.000000   \n",
              "25%       2.500000     2.500000     3.000000     2.500000     2.500000   \n",
              "50%       3.000000     3.000000     3.000000     3.000000     3.000000   \n",
              "75%       3.500000     3.500000     3.500000     3.500000     3.500000   \n",
              "max       5.000000     5.000000     5.000000     5.000000     5.000000   \n",
              "\n",
              "       conventions  \n",
              "count  3911.000000  \n",
              "mean      3.081053  \n",
              "std       0.671450  \n",
              "min       1.000000  \n",
              "25%       2.500000  \n",
              "50%       3.000000  \n",
              "75%       3.500000  \n",
              "max       5.000000  "
            ],
            "text/html": [
              "\n",
              "  <div id=\"df-ca03257e-3539-4266-bb25-f477a12573e8\">\n",
              "    <div class=\"colab-df-container\">\n",
              "      <div>\n",
              "<style scoped>\n",
              "    .dataframe tbody tr th:only-of-type {\n",
              "        vertical-align: middle;\n",
              "    }\n",
              "\n",
              "    .dataframe tbody tr th {\n",
              "        vertical-align: top;\n",
              "    }\n",
              "\n",
              "    .dataframe thead th {\n",
              "        text-align: right;\n",
              "    }\n",
              "</style>\n",
              "<table border=\"1\" class=\"dataframe\">\n",
              "  <thead>\n",
              "    <tr style=\"text-align: right;\">\n",
              "      <th></th>\n",
              "      <th>cohesion</th>\n",
              "      <th>syntax</th>\n",
              "      <th>vocabulary</th>\n",
              "      <th>phraseology</th>\n",
              "      <th>grammar</th>\n",
              "      <th>conventions</th>\n",
              "    </tr>\n",
              "  </thead>\n",
              "  <tbody>\n",
              "    <tr>\n",
              "      <th>count</th>\n",
              "      <td>3911.000000</td>\n",
              "      <td>3911.000000</td>\n",
              "      <td>3911.000000</td>\n",
              "      <td>3911.000000</td>\n",
              "      <td>3911.000000</td>\n",
              "      <td>3911.000000</td>\n",
              "    </tr>\n",
              "    <tr>\n",
              "      <th>mean</th>\n",
              "      <td>3.127077</td>\n",
              "      <td>3.028254</td>\n",
              "      <td>3.235745</td>\n",
              "      <td>3.116850</td>\n",
              "      <td>3.032856</td>\n",
              "      <td>3.081053</td>\n",
              "    </tr>\n",
              "    <tr>\n",
              "      <th>std</th>\n",
              "      <td>0.662542</td>\n",
              "      <td>0.644399</td>\n",
              "      <td>0.583148</td>\n",
              "      <td>0.655997</td>\n",
              "      <td>0.699841</td>\n",
              "      <td>0.671450</td>\n",
              "    </tr>\n",
              "    <tr>\n",
              "      <th>min</th>\n",
              "      <td>1.000000</td>\n",
              "      <td>1.000000</td>\n",
              "      <td>1.000000</td>\n",
              "      <td>1.000000</td>\n",
              "      <td>1.000000</td>\n",
              "      <td>1.000000</td>\n",
              "    </tr>\n",
              "    <tr>\n",
              "      <th>25%</th>\n",
              "      <td>2.500000</td>\n",
              "      <td>2.500000</td>\n",
              "      <td>3.000000</td>\n",
              "      <td>2.500000</td>\n",
              "      <td>2.500000</td>\n",
              "      <td>2.500000</td>\n",
              "    </tr>\n",
              "    <tr>\n",
              "      <th>50%</th>\n",
              "      <td>3.000000</td>\n",
              "      <td>3.000000</td>\n",
              "      <td>3.000000</td>\n",
              "      <td>3.000000</td>\n",
              "      <td>3.000000</td>\n",
              "      <td>3.000000</td>\n",
              "    </tr>\n",
              "    <tr>\n",
              "      <th>75%</th>\n",
              "      <td>3.500000</td>\n",
              "      <td>3.500000</td>\n",
              "      <td>3.500000</td>\n",
              "      <td>3.500000</td>\n",
              "      <td>3.500000</td>\n",
              "      <td>3.500000</td>\n",
              "    </tr>\n",
              "    <tr>\n",
              "      <th>max</th>\n",
              "      <td>5.000000</td>\n",
              "      <td>5.000000</td>\n",
              "      <td>5.000000</td>\n",
              "      <td>5.000000</td>\n",
              "      <td>5.000000</td>\n",
              "      <td>5.000000</td>\n",
              "    </tr>\n",
              "  </tbody>\n",
              "</table>\n",
              "</div>\n",
              "      <button class=\"colab-df-convert\" onclick=\"convertToInteractive('df-ca03257e-3539-4266-bb25-f477a12573e8')\"\n",
              "              title=\"Convert this dataframe to an interactive table.\"\n",
              "              style=\"display:none;\">\n",
              "        \n",
              "  <svg xmlns=\"http://www.w3.org/2000/svg\" height=\"24px\"viewBox=\"0 0 24 24\"\n",
              "       width=\"24px\">\n",
              "    <path d=\"M0 0h24v24H0V0z\" fill=\"none\"/>\n",
              "    <path d=\"M18.56 5.44l.94 2.06.94-2.06 2.06-.94-2.06-.94-.94-2.06-.94 2.06-2.06.94zm-11 1L8.5 8.5l.94-2.06 2.06-.94-2.06-.94L8.5 2.5l-.94 2.06-2.06.94zm10 10l.94 2.06.94-2.06 2.06-.94-2.06-.94-.94-2.06-.94 2.06-2.06.94z\"/><path d=\"M17.41 7.96l-1.37-1.37c-.4-.4-.92-.59-1.43-.59-.52 0-1.04.2-1.43.59L10.3 9.45l-7.72 7.72c-.78.78-.78 2.05 0 2.83L4 21.41c.39.39.9.59 1.41.59.51 0 1.02-.2 1.41-.59l7.78-7.78 2.81-2.81c.8-.78.8-2.07 0-2.86zM5.41 20L4 18.59l7.72-7.72 1.47 1.35L5.41 20z\"/>\n",
              "  </svg>\n",
              "      </button>\n",
              "      \n",
              "  <style>\n",
              "    .colab-df-container {\n",
              "      display:flex;\n",
              "      flex-wrap:wrap;\n",
              "      gap: 12px;\n",
              "    }\n",
              "\n",
              "    .colab-df-convert {\n",
              "      background-color: #E8F0FE;\n",
              "      border: none;\n",
              "      border-radius: 50%;\n",
              "      cursor: pointer;\n",
              "      display: none;\n",
              "      fill: #1967D2;\n",
              "      height: 32px;\n",
              "      padding: 0 0 0 0;\n",
              "      width: 32px;\n",
              "    }\n",
              "\n",
              "    .colab-df-convert:hover {\n",
              "      background-color: #E2EBFA;\n",
              "      box-shadow: 0px 1px 2px rgba(60, 64, 67, 0.3), 0px 1px 3px 1px rgba(60, 64, 67, 0.15);\n",
              "      fill: #174EA6;\n",
              "    }\n",
              "\n",
              "    [theme=dark] .colab-df-convert {\n",
              "      background-color: #3B4455;\n",
              "      fill: #D2E3FC;\n",
              "    }\n",
              "\n",
              "    [theme=dark] .colab-df-convert:hover {\n",
              "      background-color: #434B5C;\n",
              "      box-shadow: 0px 1px 3px 1px rgba(0, 0, 0, 0.15);\n",
              "      filter: drop-shadow(0px 1px 2px rgba(0, 0, 0, 0.3));\n",
              "      fill: #FFFFFF;\n",
              "    }\n",
              "  </style>\n",
              "\n",
              "      <script>\n",
              "        const buttonEl =\n",
              "          document.querySelector('#df-ca03257e-3539-4266-bb25-f477a12573e8 button.colab-df-convert');\n",
              "        buttonEl.style.display =\n",
              "          google.colab.kernel.accessAllowed ? 'block' : 'none';\n",
              "\n",
              "        async function convertToInteractive(key) {\n",
              "          const element = document.querySelector('#df-ca03257e-3539-4266-bb25-f477a12573e8');\n",
              "          const dataTable =\n",
              "            await google.colab.kernel.invokeFunction('convertToInteractive',\n",
              "                                                     [key], {});\n",
              "          if (!dataTable) return;\n",
              "\n",
              "          const docLinkHtml = 'Like what you see? Visit the ' +\n",
              "            '<a target=\"_blank\" href=https://colab.research.google.com/notebooks/data_table.ipynb>data table notebook</a>'\n",
              "            + ' to learn more about interactive tables.';\n",
              "          element.innerHTML = '';\n",
              "          dataTable['output_type'] = 'display_data';\n",
              "          await google.colab.output.renderOutput(dataTable, element);\n",
              "          const docLink = document.createElement('div');\n",
              "          docLink.innerHTML = docLinkHtml;\n",
              "          element.appendChild(docLink);\n",
              "        }\n",
              "      </script>\n",
              "    </div>\n",
              "  </div>\n",
              "  "
            ]
          },
          "metadata": {},
          "execution_count": 64
        }
      ]
    },
    {
      "cell_type": "markdown",
      "source": [
        "From the above information we can say that there are 3911 different text's each one having there own id\n",
        "\n",
        "And also maximum score in every property is 5 and average score is about 3.0-4.0 and minimum score is 1"
      ],
      "metadata": {
        "id": "lFlcf-qHrVXA"
      }
    },
    {
      "cell_type": "code",
      "source": [
        "#Checking the information of data in dataset\n",
        "train_data.info()"
      ],
      "metadata": {
        "colab": {
          "base_uri": "https://localhost:8080/"
        },
        "id": "O4ruNULzkouF",
        "outputId": "de3574ff-b76b-4901-c822-07ab96c606a2"
      },
      "execution_count": 65,
      "outputs": [
        {
          "output_type": "stream",
          "name": "stdout",
          "text": [
            "<class 'pandas.core.frame.DataFrame'>\n",
            "RangeIndex: 3911 entries, 0 to 3910\n",
            "Data columns (total 8 columns):\n",
            " #   Column       Non-Null Count  Dtype  \n",
            "---  ------       --------------  -----  \n",
            " 0   text_id      3911 non-null   object \n",
            " 1   full_text    3911 non-null   object \n",
            " 2   cohesion     3911 non-null   float64\n",
            " 3   syntax       3911 non-null   float64\n",
            " 4   vocabulary   3911 non-null   float64\n",
            " 5   phraseology  3911 non-null   float64\n",
            " 6   grammar      3911 non-null   float64\n",
            " 7   conventions  3911 non-null   float64\n",
            "dtypes: float64(6), object(2)\n",
            "memory usage: 244.6+ KB\n"
          ]
        }
      ]
    },
    {
      "cell_type": "code",
      "source": [
        "#checking number of null values in  each column\n",
        "train_data.isnull().sum()"
      ],
      "metadata": {
        "colab": {
          "base_uri": "https://localhost:8080/"
        },
        "id": "14WWiwWIlyxV",
        "outputId": "659ac526-efb0-40d5-88d7-302da1d1716a"
      },
      "execution_count": 66,
      "outputs": [
        {
          "output_type": "execute_result",
          "data": {
            "text/plain": [
              "text_id        0\n",
              "full_text      0\n",
              "cohesion       0\n",
              "syntax         0\n",
              "vocabulary     0\n",
              "phraseology    0\n",
              "grammar        0\n",
              "conventions    0\n",
              "dtype: int64"
            ]
          },
          "metadata": {},
          "execution_count": 66
        }
      ]
    },
    {
      "cell_type": "markdown",
      "source": [
        "From the above information we can say that there are no null values in our data so ther is no need to  handle with empty or null values"
      ],
      "metadata": {
        "id": "CYF8M-4Isf01"
      }
    },
    {
      "cell_type": "markdown",
      "source": [
        "**Let's analysis the text for some sort of preprocessing by taking a sample text**"
      ],
      "metadata": {
        "id": "W5b_zmKew5js"
      }
    },
    {
      "cell_type": "code",
      "source": [
        "train_data['full_text'][0]"
      ],
      "metadata": {
        "colab": {
          "base_uri": "https://localhost:8080/",
          "height": 140
        },
        "id": "IaYBTFkcxJIh",
        "outputId": "e8181298-3e4f-40e7-c1f5-7f7fc779992d"
      },
      "execution_count": 67,
      "outputs": [
        {
          "output_type": "execute_result",
          "data": {
            "text/plain": [
              "\"I think that students would benefit from learning at home,because they wont have to change and get up early in the morning to shower and do there hair. taking only classes helps them because at there house they'll be pay more attention. they will be comfortable at home.\\n\\nThe hardest part of school is getting ready. you wake up go brush your teeth and go to your closet and look at your cloths. after you think you picked a outfit u go look in the mirror and youll either not like it or you look and see a stain. Then you'll have to change. with the online classes you can wear anything and stay home and you wont need to stress about what to wear.\\n\\nmost students usually take showers before school. they either take it before they sleep or when they wake up. some students do both to smell good. that causes them do miss the bus and effects on there lesson time cause they come late to school. when u have online classes u wont need to miss lessons cause you can get everything set up and go take a shower and when u get out your ready to go.\\n\\nwhen your home your comfortable and you pay attention. it gives then an advantage to be smarter and even pass there classmates on class work. public schools are difficult even if you try. some teacher dont know how to teach it in then way that students understand it. that causes students to fail and they may repeat the class.              \""
            ],
            "application/vnd.google.colaboratory.intrinsic+json": {
              "type": "string"
            }
          },
          "metadata": {},
          "execution_count": 67
        }
      ]
    },
    {
      "cell_type": "markdown",
      "source": [
        "Here we can see in the text that there are some programming symbols like \\n.\n",
        "\n",
        "so let's remove them by replacing with empty spaces"
      ],
      "metadata": {
        "id": "RvE1l3iRxcXD"
      }
    },
    {
      "cell_type": "code",
      "source": [
        "#Here we use re(Regular expression) to handle with \\n, \\t ans so on..\n",
        "import re\n",
        "\n",
        "train_data['full_text']=train_data[\"full_text\"].replace(re.compile(r'[\\n\\r\\t]'),' ',regex=True)\n",
        "train=train_data.copy()"
      ],
      "metadata": {
        "id": "9ULVJSxryMg2"
      },
      "execution_count": 68,
      "outputs": []
    },
    {
      "cell_type": "markdown",
      "source": [
        "**Ok lets do cleaning to entire text in the data set**"
      ],
      "metadata": {
        "id": "Ukx-Y3G3OHNF"
      }
    },
    {
      "cell_type": "code",
      "source": [
        "text_train_data = train_data['full_text']"
      ],
      "metadata": {
        "id": "h7wvisWAOgy6"
      },
      "execution_count": 69,
      "outputs": []
    },
    {
      "cell_type": "code",
      "source": [
        "#Converting entire text to lower case\n",
        "text_train_data = text_train_data.str.lower()"
      ],
      "metadata": {
        "id": "-bjkXbDqPo47"
      },
      "execution_count": 70,
      "outputs": []
    },
    {
      "cell_type": "code",
      "source": [
        "# removing special characters and numbers\n",
        "text_train_data = text_train_data.apply(lambda x : re.sub(\"[^a-z]\\s\",\"\",x) )"
      ],
      "metadata": {
        "id": "Z5Zqa2GmP9h6"
      },
      "execution_count": 71,
      "outputs": []
    },
    {
      "cell_type": "code",
      "source": [
        "# remove hash tags\n",
        "text_train_data = text_train_data.str.replace(\"#\", \"\")"
      ],
      "metadata": {
        "id": "YOGQPhTaQB78"
      },
      "execution_count": 72,
      "outputs": []
    },
    {
      "cell_type": "code",
      "source": [
        "#remove words less than 3 character and greater than 7\n",
        "text_train_data = text_train_data.apply(lambda x: ' '.join([w for w in x.split() if len(w)>2 and len(w)<8]))"
      ],
      "metadata": {
        "id": "_H3-km5PQWAp"
      },
      "execution_count": 73,
      "outputs": []
    },
    {
      "cell_type": "code",
      "source": [
        "#Counting number of word in the entire text\n",
        "count_words = text_train_data.str.findall(r'(\\w+)').str.len()\n",
        "print(count_words.sum())"
      ],
      "metadata": {
        "colab": {
          "base_uri": "https://localhost:8080/"
        },
        "id": "g4PirrhoQirt",
        "outputId": "2343c4d3-2137-4584-a69f-6524c74cad7c"
      },
      "execution_count": 74,
      "outputs": [
        {
          "output_type": "stream",
          "name": "stdout",
          "text": [
            "1064587\n"
          ]
        }
      ]
    },
    {
      "cell_type": "code",
      "source": [
        "#Remove frequently used words\n",
        "most_freq_words = pd.Series(' '.join(text_train_data).lower().split()).value_counts()[:25]\n",
        "text_train_data = text_train_data.apply(lambda x : \" \".join(word for word in x.split() if word not in most_freq_words ))\n",
        "print(\"Most frequently used words in the text\\n\",most_freq_words)\n",
        "\n",
        "count_words = text_train_data.str.findall(r'(\\w+)').str.len()\n",
        "print(\"\\nCounting number of word in the entire text after removing frequently used words:\",count_words.sum())"
      ],
      "metadata": {
        "colab": {
          "base_uri": "https://localhost:8080/"
        },
        "id": "S4UrcaRYSeCj",
        "outputId": "b34a5d9f-2b07-4ba5-933a-aa4395a00c95"
      },
      "execution_count": 75,
      "outputs": [
        {
          "output_type": "stream",
          "name": "stdout",
          "text": [
            "Most frequently used words in the text\n",
            " the        52605\n",
            "and        39550\n",
            "you        34777\n",
            "that       28085\n",
            "they       23406\n",
            "have       20274\n",
            "can        18335\n",
            "for        16994\n",
            "are        14465\n",
            "not        13779\n",
            "because    13357\n",
            "people     12681\n",
            "with       11396\n",
            "will       11039\n",
            "your       10814\n",
            "school     10204\n",
            "their      10095\n",
            "more        8942\n",
            "what        8572\n",
            "get         8204\n",
            "good        8027\n",
            "like        7202\n",
            "time        7129\n",
            "work        6859\n",
            "want        6826\n",
            "dtype: int64\n",
            "\n",
            "Counting number of word in the entire text after removing frequently used words: 660970\n"
          ]
        }
      ]
    },
    {
      "cell_type": "code",
      "source": [
        "apostrophe_dict = {\n",
        "\"ain't\": \"am not / are not\",\n",
        "\"aren't\": \"are not / am not\",\n",
        "\"can't\": \"cannot\",\n",
        "\"can't've\": \"cannot have\",\n",
        "\"'cause\": \"because\",\n",
        "\"could've\": \"could have\",\n",
        "\"couldn't\": \"could not\",\n",
        "\"couldn't've\": \"could not have\",\n",
        "\"didn't\": \"did not\",\n",
        "\"doesn't\": \"does not\",\n",
        "\"don't\": \"do not\",\n",
        "\"hadn't\": \"had not\",\n",
        "\"hadn't've\": \"had not have\",\n",
        "\"hasn't\": \"has not\",\n",
        "\"haven't\": \"have not\",\n",
        "\"he'd\": \"he had / he would\",\n",
        "\"he'd've\": \"he would have\",\n",
        "\"he'll\": \"he shall / he will\",\n",
        "\"he'll've\": \"he shall have / he will have\",\n",
        "\"he's\": \"he has / he is\",\n",
        "\"how'd\": \"how did\",\n",
        "\"how'd'y\": \"how do you\",\n",
        "\"how'll\": \"how will\",\n",
        "\"how's\": \"how has / how is\",\n",
        "\"i'd\": \"I had / I would\",\n",
        "\"i'd've\": \"I would have\",\n",
        "\"i'll\": \"I shall / I will\",\n",
        "\"i'll've\": \"I shall have / I will have\",\n",
        "\"i'm\": \"I am\",\n",
        "\"i've\": \"I have\",\n",
        "\"isn't\": \"is not\",\n",
        "\"it'd\": \"it had / it would\",\n",
        "\"it'd've\": \"it would have\",\n",
        "\"it'll\": \"it shall / it will\",\n",
        "\"it'll've\": \"it shall have / it will have\",\n",
        "\"it's\": \"it has / it is\",\n",
        "\"let's\": \"let us\",\n",
        "\"ma'am\": \"madam\",\n",
        "\"mayn't\": \"may not\",\n",
        "\"might've\": \"might have\",\n",
        "\"mightn't\": \"might not\",\n",
        "\"mightn't've\": \"might not have\",\n",
        "\"must've\": \"must have\",\n",
        "\"mustn't\": \"must not\",\n",
        "\"mustn't've\": \"must not have\",\n",
        "\"needn't\": \"need not\",\n",
        "\"needn't've\": \"need not have\",\n",
        "\"o'clock\": \"of the clock\",\n",
        "\"oughtn't\": \"ought not\",\n",
        "\"oughtn't've\": \"ought not have\",\n",
        "\"shan't\": \"shall not\",\n",
        "\"sha'n't\": \"shall not\",\n",
        "\"shan't've\": \"shall not have\",\n",
        "\"she'd\": \"she had / she would\",\n",
        "\"she'd've\": \"she would have\",\n",
        "\"she'll\": \"she shall / she will\",\n",
        "\"she'll've\": \"she shall have / she will have\",\n",
        "\"she's\": \"she has / she is\",\n",
        "\"should've\": \"should have\",\n",
        "\"shouldn't\": \"should not\",\n",
        "\"shouldn't've\": \"should not have\",\n",
        "\"so've\": \"so have\",\n",
        "\"so's\": \"so as / so is\",\n",
        "\"that'd\": \"that would / that had\",\n",
        "\"that'd've\": \"that would have\",\n",
        "\"that's\": \"that has / that is\",\n",
        "\"there'd\": \"there had / there would\",\n",
        "\"there'd've\": \"there would have\",\n",
        "\"there's\": \"there has / there is\",\n",
        "\"they'd\": \"they had / they would\",\n",
        "\"they'd've\": \"they would have\",\n",
        "\"they'll\": \"they shall / they will\",\n",
        "\"they'll've\": \"they shall have / they will have\",\n",
        "\"they're\": \"they are\",\n",
        "\"they've\": \"they have\",\n",
        "\"to've\": \"to have\",\n",
        "\"wasn't\": \"was not\",\n",
        "\"we'd\": \"we had / we would\",\n",
        "\"we'd've\": \"we would have\",\n",
        "\"we'll\": \"we will\",\n",
        "\"we'll've\": \"we will have\",\n",
        "\"we're\": \"we are\",\n",
        "\"we've\": \"we have\",\n",
        "\"weren't\": \"were not\",\n",
        "\"what'll\": \"what shall / what will\",\n",
        "\"what'll've\": \"what shall have / what will have\",\n",
        "\"what're\": \"what are\",\n",
        "\"what's\": \"what has / what is\",\n",
        "\"what've\": \"what have\",\n",
        "\"when's\": \"when has / when is\",\n",
        "\"when've\": \"when have\",\n",
        "\"where'd\": \"where did\",\n",
        "\"where's\": \"where has / where is\",\n",
        "\"where've\": \"where have\",\n",
        "\"who'll\": \"who shall / who will\",\n",
        "\"who'll've\": \"who shall have / who will have\",\n",
        "\"who's\": \"who has / who is\",\n",
        "\"who've\": \"who have\",\n",
        "\"why's\": \"why has / why is\",\n",
        "\"why've\": \"why have\",\n",
        "\"will've\": \"will have\",\n",
        "\"won't\": \"will not\",\n",
        "\"won't've\": \"will not have\",\n",
        "\"would've\": \"would have\",\n",
        "\"wouldn't\": \"would not\",\n",
        "\"wouldn't've\": \"would not have\",\n",
        "\"y'all\": \"you all\",\n",
        "\"y'all'd\": \"you all would\",\n",
        "\"y'all'd've\": \"you all would have\",\n",
        "\"y'all're\": \"you all are\",\n",
        "\"y'all've\": \"you all have\",\n",
        "\"you'd\": \"you had / you would\",\n",
        "\"you'd've\": \"you would have\",\n",
        "\"you'll\": \"you shall / you will\",\n",
        "\"you'll've\": \"you shall have / you will have\",\n",
        "\"you're\": \"you are\",\n",
        "\"you've\": \"you have\"\n",
        "}"
      ],
      "metadata": {
        "id": "FfCZ00FbTZc-"
      },
      "execution_count": 76,
      "outputs": []
    },
    {
      "cell_type": "code",
      "source": [
        "#now lets replace the apostrophe words in the text as normal words\n",
        "\n",
        "def lookup_dict(txt, dictionary):\n",
        "    for word in txt.split():\n",
        "        if word.lower() in dictionary:\n",
        "            if word.lower() in txt.split():\n",
        "                txt = txt.replace(word, dictionary[word.lower()])\n",
        "    return txt\n",
        "\n",
        "text_train_data = text_train_data.apply(lambda x: lookup_dict(x,apostrophe_dict))"
      ],
      "metadata": {
        "id": "sY0E1QWvSk13"
      },
      "execution_count": 77,
      "outputs": []
    },
    {
      "cell_type": "code",
      "source": [
        "#Remove rare words in the text\n",
        "\n",
        "from collections import Counter\n",
        "from itertools import chain\n",
        "\n",
        "# split words into lists\n",
        "v = text_train_data.str.split().tolist() \n",
        "# compute global word frequency\n",
        "c = Counter(chain.from_iterable(v))\n",
        "# filter, join, and re-assign\n",
        "text_train_data = [' '.join([j for j in i if c[j] > 1]) for i in v]\n",
        "text_train_data = pd.Series(text_train_data)\n",
        "\n",
        "total_word = 0\n",
        "for x,word in enumerate(text_train_data):\n",
        "    num_word = len(word.split())\n",
        "    #print(num_word)\n",
        "    total_word = total_word + num_word\n",
        "print(\"Total number of words in the text after all cleaning is done:\",total_word)"
      ],
      "metadata": {
        "colab": {
          "base_uri": "https://localhost:8080/"
        },
        "id": "_1M5bhrXT9cz",
        "outputId": "310066a5-7093-43fc-9ec0-bc204dfd3399"
      },
      "execution_count": 85,
      "outputs": [
        {
          "output_type": "stream",
          "name": "stdout",
          "text": [
            "Total number of words in the text after all cleaning is done: 654869\n"
          ]
        }
      ]
    },
    {
      "cell_type": "markdown",
      "source": [
        "**Ok now lets see some visualized data of our dataset**"
      ],
      "metadata": {
        "id": "2Dqo-E4qVTE2"
      }
    },
    {
      "cell_type": "code",
      "source": [
        "fig=plt.figure(figsize=(10,5))\n",
        "ax=fig.add_subplot()\n",
        "sns.kdeplot(x=train['full_text'].apply(lambda x:len(x.split())),data=train,ec=\"#000\",fill=True,alpha=1,ax=ax,zorder=2)\n",
        "ax.set_title(\"Text length distribution\")\n",
        "fig.show()"
      ],
      "metadata": {
        "colab": {
          "base_uri": "https://localhost:8080/",
          "height": 487
        },
        "id": "ktHF6a3ZXx3O",
        "outputId": "276a491e-88bc-47bb-e419-10268e32a74f"
      },
      "execution_count": 79,
      "outputs": [
        {
          "output_type": "display_data",
          "data": {
            "text/plain": [
              "<Figure size 1000x500 with 1 Axes>"
            ],
            "image/png": "[encoded data removed]"
          },
          "metadata": {}
        }
      ]
    },
    {
      "cell_type": "markdown",
      "source": [
        "Here we are calculating the text length for each entry in the 'full_text' column of out dataset\n",
        "\n",
        "And Generated a kernel density plot (kdeplot) of the text length distribution"
      ],
      "metadata": {
        "id": "4XfpAtubZVv1"
      }
    },
    {
      "cell_type": "code",
      "source": [
        "fig, axs = plt.subplots(3, 2, figsize=(16, 12))\n",
        "\n",
        "sns.countplot(x=\"cohesion\", data=train, linewidth=1.25, alpha=1, ax=axs[0][0], zorder=2)\n",
        "sns.countplot(x=\"syntax\", data=train, linewidth=1.25, alpha=1, ax=axs[0][1], zorder=2)\n",
        "sns.countplot(x=\"vocabulary\", data=train, linewidth=1.25, alpha=1, ax=axs[1][0], zorder=2)\n",
        "sns.countplot(x=\"phraseology\", data=train, linewidth=1.25, alpha=1, ax=axs[1][1], zorder=2)\n",
        "sns.countplot(x=\"grammar\", data=train, linewidth=1.25, alpha=1, ax=axs[2][0], zorder=2)\n",
        "sns.countplot(x=\"conventions\", data=train, linewidth=1.25, alpha=1, ax=axs[2][1], zorder=2)\n",
        "\n",
        "fig.show()"
      ],
      "metadata": {
        "colab": {
          "base_uri": "https://localhost:8080/",
          "height": 847
        },
        "id": "HeRlcHGIbSUe",
        "outputId": "d3b52d5b-ac9d-4598-994d-58952e6461ce"
      },
      "execution_count": 80,
      "outputs": [
        {
          "output_type": "display_data",
          "data": {
            "text/plain": [
              "<Figure size 1600x1200 with 6 Axes>"
            ],
            "image/png": "[encoded data removed]"
          },
          "metadata": {}
        }
      ]
    },
    {
      "cell_type": "markdown",
      "source": [
        "Here we have ploted count plots for the variables in our dataset\n",
        "\n",
        "cohesion,\n",
        " syntax,\n",
        " vocabulary,\n",
        " phraseology,\n",
        " grammar,\n",
        " conventions."
      ],
      "metadata": {
        "id": "E-PYHtKKcBvw"
      }
    },
    {
      "cell_type": "code",
      "source": [
        "#Lets se the word count of the text's in our dataset\n",
        "train['word_count'] = train.full_text.apply(lambda x: len(x.split()))\n",
        "train.word_count.head()"
      ],
      "metadata": {
        "colab": {
          "base_uri": "https://localhost:8080/"
        },
        "id": "Phduh3_Gcv-n",
        "outputId": "f17c3d6a-0a92-477a-d10c-d7ffb54ea1d0"
      },
      "execution_count": 81,
      "outputs": [
        {
          "output_type": "execute_result",
          "data": {
            "text/plain": [
              "0    261\n",
              "1    533\n",
              "2    320\n",
              "3    728\n",
              "4    234\n",
              "Name: word_count, dtype: int64"
            ]
          },
          "metadata": {},
          "execution_count": 81
        }
      ]
    },
    {
      "cell_type": "markdown",
      "source": [
        "Ok now lets visualize word count in the text's of our dataset by drawing a count plot"
      ],
      "metadata": {
        "id": "8DRpyxHXdg2h"
      }
    },
    {
      "cell_type": "code",
      "source": [
        "fig = plt.figure(figsize=(15, 5))\n",
        "sns.histplot(data=train, x=\"word_count\")\n",
        "plt.title(\"full_text word count\")\n",
        "plt.show()"
      ],
      "metadata": {
        "colab": {
          "base_uri": "https://localhost:8080/",
          "height": 507
        },
        "id": "2g9h5SyBdsaw",
        "outputId": "4168d7ea-8b71-4f8d-b4c4-8c1b31453556"
      },
      "execution_count": 82,
      "outputs": [
        {
          "output_type": "display_data",
          "data": {
            "text/plain": [
              "<Figure size 1500x500 with 1 Axes>"
            ],
            "image/png": "[encoded data removed]"
          },
          "metadata": {}
        }
      ]
    },
    {
      "cell_type": "markdown",
      "source": [
        "**Before preparing the training and tesing data we have to clean the testing data also**"
      ],
      "metadata": {
        "id": "YywTq8DEgpSN"
      }
    },
    {
      "cell_type": "code",
      "source": [
        "test_data=pd.read_csv(\"/content/test.csv\")\n",
        "test_data['full_text']=test_data[\"full_text\"].replace(re.compile(r'[\\n\\r\\t]'),' ',regex=True)\n",
        "text_test_data = test_data['full_text']\n",
        "text_test_data = text_test_data.str.lower()\n",
        "text_test_data = text_test_data.apply(lambda x : re.sub(\"[^a-z]\\s\",\"\",x))\n",
        "text_test_data = text_test_data.str.replace(\"#\", \"\")\n",
        "text_test_data = text_test_data.apply(lambda x: ' '.join([w for w in x.split() if len(w)>2 and len(w)<8]))\n",
        "most_freq_words = pd.Series(' '.join(text_test_data).lower().split()).value_counts()[:25]\n",
        "text_test_data = text_test_data.apply(lambda x : \" \".join(word for word in x.split() if word not in most_freq_words ))\n",
        "text_test_data = text_test_data.apply(lambda x: lookup_dict(x,apostrophe_dict))\n",
        "v_test = text_test_data.str.split().tolist() \n",
        "c_test = Counter(chain.from_iterable(v_test))\n",
        "text_test_data = [' '.join([j for j in i if c_test[j] > 1]) for i in v_test]\n",
        "text_test_data = pd.Series(text_test_data)"
      ],
      "metadata": {
        "id": "sSYAYQGVg1jX"
      },
      "execution_count": null,
      "outputs": []
    },
    {
      "cell_type": "markdown",
      "source": [
        "#**Preparing training and testing data**"
      ],
      "metadata": {
        "id": "idJ-NUP7eGIK"
      }
    },
    {
      "cell_type": "code",
      "source": [
        "variables = ['cohesion', 'syntax', 'vocabulary', 'phraseology', 'grammar',  'conventions']\n",
        "target_variables = train_data[variables]\n",
        "target_variables"
      ],
      "metadata": {
        "colab": {
          "base_uri": "https://localhost:8080/",
          "height": 423
        },
        "id": "wKQW-36sd8Kk",
        "outputId": "ac5c4c02-c923-4d46-977f-e2910912403e"
      },
      "execution_count": 92,
      "outputs": [
        {
          "output_type": "execute_result",
          "data": {
            "text/plain": [
              "      cohesion  syntax  vocabulary  phraseology  grammar  conventions\n",
              "0          3.5     3.5         3.0          3.0      4.0          3.0\n",
              "1          2.5     2.5         3.0          2.0      2.0          2.5\n",
              "2          3.0     3.5         3.0          3.0      3.0          2.5\n",
              "3          4.5     4.5         4.5          4.5      4.0          5.0\n",
              "4          2.5     3.0         3.0          3.0      2.5          2.5\n",
              "...        ...     ...         ...          ...      ...          ...\n",
              "3906       2.5     3.0         3.0          3.5      2.5          2.5\n",
              "3907       4.0     4.0         4.0          4.0      3.5          3.0\n",
              "3908       2.5     3.0         3.0          3.0      3.5          3.0\n",
              "3909       4.0     4.5         4.5          4.0      4.5          4.5\n",
              "3910       3.5     2.5         3.5          3.0      3.0          3.5\n",
              "\n",
              "[3911 rows x 6 columns]"
            ],
            "text/html": [
              "\n",
              "  <div id=\"df-eef386fe-fb8c-495d-b605-19369cae3e18\">\n",
              "    <div class=\"colab-df-container\">\n",
              "      <div>\n",
              "<style scoped>\n",
              "    .dataframe tbody tr th:only-of-type {\n",
              "        vertical-align: middle;\n",
              "    }\n",
              "\n",
              "    .dataframe tbody tr th {\n",
              "        vertical-align: top;\n",
              "    }\n",
              "\n",
              "    .dataframe thead th {\n",
              "        text-align: right;\n",
              "    }\n",
              "</style>\n",
              "<table border=\"1\" class=\"dataframe\">\n",
              "  <thead>\n",
              "    <tr style=\"text-align: right;\">\n",
              "      <th></th>\n",
              "      <th>cohesion</th>\n",
              "      <th>syntax</th>\n",
              "      <th>vocabulary</th>\n",
              "      <th>phraseology</th>\n",
              "      <th>grammar</th>\n",
              "      <th>conventions</th>\n",
              "    </tr>\n",
              "  </thead>\n",
              "  <tbody>\n",
              "    <tr>\n",
              "      <th>0</th>\n",
              "      <td>3.5</td>\n",
              "      <td>3.5</td>\n",
              "      <td>3.0</td>\n",
              "      <td>3.0</td>\n",
              "      <td>4.0</td>\n",
              "      <td>3.0</td>\n",
              "    </tr>\n",
              "    <tr>\n",
              "      <th>1</th>\n",
              "      <td>2.5</td>\n",
              "      <td>2.5</td>\n",
              "      <td>3.0</td>\n",
              "      <td>2.0</td>\n",
              "      <td>2.0</td>\n",
              "      <td>2.5</td>\n",
              "    </tr>\n",
              "    <tr>\n",
              "      <th>2</th>\n",
              "      <td>3.0</td>\n",
              "      <td>3.5</td>\n",
              "      <td>3.0</td>\n",
              "      <td>3.0</td>\n",
              "      <td>3.0</td>\n",
              "      <td>2.5</td>\n",
              "    </tr>\n",
              "    <tr>\n",
              "      <th>3</th>\n",
              "      <td>4.5</td>\n",
              "      <td>4.5</td>\n",
              "      <td>4.5</td>\n",
              "      <td>4.5</td>\n",
              "      <td>4.0</td>\n",
              "      <td>5.0</td>\n",
              "    </tr>\n",
              "    <tr>\n",
              "      <th>4</th>\n",
              "      <td>2.5</td>\n",
              "      <td>3.0</td>\n",
              "      <td>3.0</td>\n",
              "      <td>3.0</td>\n",
              "      <td>2.5</td>\n",
              "      <td>2.5</td>\n",
              "    </tr>\n",
              "    <tr>\n",
              "      <th>...</th>\n",
              "      <td>...</td>\n",
              "      <td>...</td>\n",
              "      <td>...</td>\n",
              "      <td>...</td>\n",
              "      <td>...</td>\n",
              "      <td>...</td>\n",
              "    </tr>\n",
              "    <tr>\n",
              "      <th>3906</th>\n",
              "      <td>2.5</td>\n",
              "      <td>3.0</td>\n",
              "      <td>3.0</td>\n",
              "      <td>3.5</td>\n",
              "      <td>2.5</td>\n",
              "      <td>2.5</td>\n",
              "    </tr>\n",
              "    <tr>\n",
              "      <th>3907</th>\n",
              "      <td>4.0</td>\n",
              "      <td>4.0</td>\n",
              "      <td>4.0</td>\n",
              "      <td>4.0</td>\n",
              "      <td>3.5</td>\n",
              "      <td>3.0</td>\n",
              "    </tr>\n",
              "    <tr>\n",
              "      <th>3908</th>\n",
              "      <td>2.5</td>\n",
              "      <td>3.0</td>\n",
              "      <td>3.0</td>\n",
              "      <td>3.0</td>\n",
              "      <td>3.5</td>\n",
              "      <td>3.0</td>\n",
              "    </tr>\n",
              "    <tr>\n",
              "      <th>3909</th>\n",
              "      <td>4.0</td>\n",
              "      <td>4.5</td>\n",
              "      <td>4.5</td>\n",
              "      <td>4.0</td>\n",
              "      <td>4.5</td>\n",
              "      <td>4.5</td>\n",
              "    </tr>\n",
              "    <tr>\n",
              "      <th>3910</th>\n",
              "      <td>3.5</td>\n",
              "      <td>2.5</td>\n",
              "      <td>3.5</td>\n",
              "      <td>3.0</td>\n",
              "      <td>3.0</td>\n",
              "      <td>3.5</td>\n",
              "    </tr>\n",
              "  </tbody>\n",
              "</table>\n",
              "<p>3911 rows × 6 columns</p>\n",
              "</div>\n",
              "      <button class=\"colab-df-convert\" onclick=\"convertToInteractive('df-eef386fe-fb8c-495d-b605-19369cae3e18')\"\n",
              "              title=\"Convert this dataframe to an interactive table.\"\n",
              "              style=\"display:none;\">\n",
              "        \n",
              "  <svg xmlns=\"http://www.w3.org/2000/svg\" height=\"24px\"viewBox=\"0 0 24 24\"\n",
              "       width=\"24px\">\n",
              "    <path d=\"M0 0h24v24H0V0z\" fill=\"none\"/>\n",
              "    <path d=\"M18.56 5.44l.94 2.06.94-2.06 2.06-.94-2.06-.94-.94-2.06-.94 2.06-2.06.94zm-11 1L8.5 8.5l.94-2.06 2.06-.94-2.06-.94L8.5 2.5l-.94 2.06-2.06.94zm10 10l.94 2.06.94-2.06 2.06-.94-2.06-.94-.94-2.06-.94 2.06-2.06.94z\"/><path d=\"M17.41 7.96l-1.37-1.37c-.4-.4-.92-.59-1.43-.59-.52 0-1.04.2-1.43.59L10.3 9.45l-7.72 7.72c-.78.78-.78 2.05 0 2.83L4 21.41c.39.39.9.59 1.41.59.51 0 1.02-.2 1.41-.59l7.78-7.78 2.81-2.81c.8-.78.8-2.07 0-2.86zM5.41 20L4 18.59l7.72-7.72 1.47 1.35L5.41 20z\"/>\n",
              "  </svg>\n",
              "      </button>\n",
              "      \n",
              "  <style>\n",
              "    .colab-df-container {\n",
              "      display:flex;\n",
              "      flex-wrap:wrap;\n",
              "      gap: 12px;\n",
              "    }\n",
              "\n",
              "    .colab-df-convert {\n",
              "      background-color: #E8F0FE;\n",
              "      border: none;\n",
              "      border-radius: 50%;\n",
              "      cursor: pointer;\n",
              "      display: none;\n",
              "      fill: #1967D2;\n",
              "      height: 32px;\n",
              "      padding: 0 0 0 0;\n",
              "      width: 32px;\n",
              "    }\n",
              "\n",
              "    .colab-df-convert:hover {\n",
              "      background-color: #E2EBFA;\n",
              "      box-shadow: 0px 1px 2px rgba(60, 64, 67, 0.3), 0px 1px 3px 1px rgba(60, 64, 67, 0.15);\n",
              "      fill: #174EA6;\n",
              "    }\n",
              "\n",
              "    [theme=dark] .colab-df-convert {\n",
              "      background-color: #3B4455;\n",
              "      fill: #D2E3FC;\n",
              "    }\n",
              "\n",
              "    [theme=dark] .colab-df-convert:hover {\n",
              "      background-color: #434B5C;\n",
              "      box-shadow: 0px 1px 3px 1px rgba(0, 0, 0, 0.15);\n",
              "      filter: drop-shadow(0px 1px 2px rgba(0, 0, 0, 0.3));\n",
              "      fill: #FFFFFF;\n",
              "    }\n",
              "  </style>\n",
              "\n",
              "      <script>\n",
              "        const buttonEl =\n",
              "          document.querySelector('#df-eef386fe-fb8c-495d-b605-19369cae3e18 button.colab-df-convert');\n",
              "        buttonEl.style.display =\n",
              "          google.colab.kernel.accessAllowed ? 'block' : 'none';\n",
              "\n",
              "        async function convertToInteractive(key) {\n",
              "          const element = document.querySelector('#df-eef386fe-fb8c-495d-b605-19369cae3e18');\n",
              "          const dataTable =\n",
              "            await google.colab.kernel.invokeFunction('convertToInteractive',\n",
              "                                                     [key], {});\n",
              "          if (!dataTable) return;\n",
              "\n",
              "          const docLinkHtml = 'Like what you see? Visit the ' +\n",
              "            '<a target=\"_blank\" href=https://colab.research.google.com/notebooks/data_table.ipynb>data table notebook</a>'\n",
              "            + ' to learn more about interactive tables.';\n",
              "          element.innerHTML = '';\n",
              "          dataTable['output_type'] = 'display_data';\n",
              "          await google.colab.output.renderOutput(dataTable, element);\n",
              "          const docLink = document.createElement('div');\n",
              "          docLink.innerHTML = docLinkHtml;\n",
              "          element.appendChild(docLink);\n",
              "        }\n",
              "      </script>\n",
              "    </div>\n",
              "  </div>\n",
              "  "
            ]
          },
          "metadata": {},
          "execution_count": 92
        }
      ]
    },
    {
      "cell_type": "code",
      "source": [
        "y_train=target_variables\n",
        "X_train = text_train_data.copy()\n",
        "X_test = text_test_data.copy()\n",
        "X_train.shape, X_test.shape, y_train.shape"
      ],
      "metadata": {
        "colab": {
          "base_uri": "https://localhost:8080/"
        },
        "id": "gPYTx5QijlGJ",
        "outputId": "5853401f-853d-4d42-84fb-ca4c8edf100a"
      },
      "execution_count": 93,
      "outputs": [
        {
          "output_type": "execute_result",
          "data": {
            "text/plain": [
              "((3911,), (3,), (3911, 6))"
            ]
          },
          "metadata": {},
          "execution_count": 93
        }
      ]
    },
    {
      "cell_type": "markdown",
      "source": [
        "#**Modelling**"
      ],
      "metadata": {
        "id": "gkFaFpByrQSA"
      }
    },
    {
      "cell_type": "code",
      "source": [
        "from sklearn.feature_extraction.text import TfidfVectorizer\n",
        "\n",
        "# Import the TfidfVectorizer class from sklearn.feature_extraction.text\n",
        "\n",
        "vectorizer_tfidf = TfidfVectorizer(stop_words='english', max_df=0.5, min_df=0.01)\n",
        "\n",
        "# Create an instance of TfidfVectorizer with specified parameters:\n",
        "# - stop_words='english' removes common English words\n",
        "# - max_df=0.5 ignores terms that appear in more than 50% of the documents\n",
        "# - min_df=0.01 ignores terms that appear in less than 1% of the documents\n",
        "\n",
        "X_train = list(map(''.join, X_train))\n",
        "\n",
        "# Assuming X_train is a list of lists, this line joins the inner lists into strings\n",
        "\n",
        "X_test = np.array(X_test).tolist()\n",
        "X_test = list(map(''.join, X_test))\n",
        "\n",
        "# Assuming X_test is a numpy array, these lines convert it to a list of strings\n",
        "\n",
        "X_train_vector = vectorizer_tfidf.fit_transform(X_train)\n",
        "\n",
        "# Convert the text data in X_train to TF-IDF vectors using fit_transform()\n",
        "# This step both fits the vectorizer on the training data and transforms it into TF-IDF vectors\n",
        "\n",
        "X_test_vector = vectorizer_tfidf.transform(X_test)\n",
        "\n",
        "# Convert the text data in X_test to TF-IDF vectors using transform()\n",
        "# This step transforms the test data into TF-IDF vectors using the fitted vectorizer\n"
      ],
      "metadata": {
        "id": "m2vts-Z_ly6J"
      },
      "execution_count": 110,
      "outputs": []
    },
    {
      "cell_type": "code",
      "source": [
        "X_train_vector.shape, X_test_vector.shape, y_train.shape"
      ],
      "metadata": {
        "colab": {
          "base_uri": "https://localhost:8080/"
        },
        "id": "IkYmFlyJmafU",
        "outputId": "74fff225-0d28-4f73-e337-4b0d15c67eec"
      },
      "execution_count": 111,
      "outputs": [
        {
          "output_type": "execute_result",
          "data": {
            "text/plain": [
              "((3911, 892), (3, 892), (3911, 6))"
            ]
          },
          "metadata": {},
          "execution_count": 111
        }
      ]
    },
    {
      "cell_type": "code",
      "source": [
        "from sklearn.multioutput import MultiOutputRegressor\n",
        "from sklearn.svm import SVR\n",
        "\n",
        "# Assuming you have X_train_vector as input features and y as true output labels\n",
        "\n",
        "# Create the multi-output regressor model with SVR as the base estimator\n",
        "model = MultiOutputRegressor(SVR())\n",
        "\n",
        "# Fit the model to the data\n",
        "model.fit(X_train_vector, y_train)\n",
        "\n",
        "# Calculate the accuracy using the score method\n",
        "accuracy = model.score(X_train_vector, y_train)\n",
        "\n",
        "# Print the accuracy\n",
        "print(\"Accuracy: {:.2f}\".format((accuracy)*100))"
      ],
      "metadata": {
        "colab": {
          "base_uri": "https://localhost:8080/"
        },
        "id": "UFwk4Ak-mrwj",
        "outputId": "620facf8-dc92-4951-ae54-27823fa1cdf4"
      },
      "execution_count": 101,
      "outputs": [
        {
          "output_type": "stream",
          "name": "stdout",
          "text": [
            "Accuracy: 86.51\n"
          ]
        }
      ]
    },
    {
      "cell_type": "code",
      "source": [
        "predictions_of_score = chain.predict(X_test_vector)\n",
        "predictions_of_score"
      ],
      "metadata": {
        "colab": {
          "base_uri": "https://localhost:8080/"
        },
        "id": "FIhKQyOppV_y",
        "outputId": "1ed0b899-3ac3-45fd-ecb8-26ab174f9214"
      },
      "execution_count": 103,
      "outputs": [
        {
          "output_type": "execute_result",
          "data": {
            "text/plain": [
              "array([[2.97746386, 2.8425513 , 3.13198633, 2.9363856 , 2.70599228,\n",
              "        2.78231403],\n",
              "       [2.81355291, 2.84093948, 2.96823557, 2.56543488, 2.72247527,\n",
              "        2.73855288],\n",
              "       [3.08146927, 2.98266874, 3.17661377, 2.93410294, 2.94716782,\n",
              "        2.89425216]])"
            ]
          },
          "metadata": {},
          "execution_count": 103
        }
      ]
    }
  ]
}